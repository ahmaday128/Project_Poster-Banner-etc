{
  "nbformat": 4,
  "nbformat_minor": 0,
  "metadata": {
    "colab": {
      "name": "Exercise_DeepLearning_Preprocessing_Audiobooks.ipynb",
      "provenance": [],
      "authorship_tag": "ABX9TyMPEXFrQTmTAj+b2RzYbhs+",
      "include_colab_link": true
    },
    "kernelspec": {
      "name": "python3",
      "display_name": "Python 3"
    }
  },
  "cells": [
    {
      "cell_type": "markdown",
      "metadata": {
        "id": "view-in-github",
        "colab_type": "text"
      },
      "source": [
        "<a href=\"https://colab.research.google.com/github/ahmadyamin93/Project_Poster-Banner-etc/blob/master/MachineLearning_Preprocessing_Audiobooks.ipynb\" target=\"_parent\"><img src=\"https://colab.research.google.com/assets/colab-badge.svg\" alt=\"Open In Colab\"/></a>"
      ]
    },
    {
      "cell_type": "markdown",
      "metadata": {
        "id": "NaO8GjVooYod"
      },
      "source": [
        "**Extract the data from the csv**"
      ]
    },
    {
      "cell_type": "code",
      "metadata": {
        "id": "cwOL4ZJ0jNx3",
        "outputId": "d136428c-dd9c-4e19-9fa0-c6e3c177259f",
        "colab": {
          "base_uri": "https://localhost:8080/"
        }
      },
      "source": [
        "from google.colab import drive\n",
        "drive.mount('/content/gdrive')"
      ],
      "execution_count": 1,
      "outputs": [
        {
          "output_type": "stream",
          "text": [
            "Drive already mounted at /content/gdrive; to attempt to forcibly remount, call drive.mount(\"/content/gdrive\", force_remount=True).\n"
          ],
          "name": "stdout"
        }
      ]
    },
    {
      "cell_type": "code",
      "metadata": {
        "id": "w_yt8ACPjVkO"
      },
      "source": [
        "import numpy as np\n",
        "from sklearn import preprocessing\n",
        "\n",
        "raw_csv_data = np.loadtxt('/content/gdrive/My Drive/Colab_Notebooks/Audiobooks_data.csv', delimiter = ',')\n",
        "\n",
        "unscaled_inputs_all = raw_csv_data[:,1:-1]\n",
        "targets_all = raw_csv_data[:,-1]"
      ],
      "execution_count": 2,
      "outputs": []
    },
    {
      "cell_type": "markdown",
      "metadata": {
        "id": "FeHS8dWVol23"
      },
      "source": [
        "**Balance the dataset**"
      ]
    },
    {
      "cell_type": "code",
      "metadata": {
        "id": "OAH_lpr4lLMi"
      },
      "source": [
        "num_one_targets = int(np.sum(targets_all))\n",
        "zero_targets_counter = 0\n",
        "indices_to_remove = []\n",
        "\n",
        "for i in range(targets_all.shape[0]):\n",
        "    if targets_all[i] ==0:\n",
        "        zero_targets_counter += 1\n",
        "        if zero_targets_counter > num_one_targets:\n",
        "            indices_to_remove.append(i)\n",
        "            \n",
        "unscaled_inputs_equal_priors = np.delete(unscaled_inputs_all, indices_to_remove, axis = 0)\n",
        "targets_equal_priors = np.delete (targets_all, indices_to_remove, axis=0)"
      ],
      "execution_count": 3,
      "outputs": []
    },
    {
      "cell_type": "markdown",
      "metadata": {
        "id": "Dfx6QHegrENn"
      },
      "source": [
        "**Standardize the inputs**"
      ]
    },
    {
      "cell_type": "code",
      "metadata": {
        "id": "tIyrfaNMrA_i"
      },
      "source": [
        "scaled_inputs = preprocessing.scale(unscaled_inputs_equal_priors)"
      ],
      "execution_count": 4,
      "outputs": []
    },
    {
      "cell_type": "markdown",
      "metadata": {
        "id": "FuG3OKlzrQo_"
      },
      "source": [
        "**Shuffle the Data**"
      ]
    },
    {
      "cell_type": "code",
      "metadata": {
        "id": "X1G6879urVIO"
      },
      "source": [
        "shuffled_indices = np.arange(scaled_inputs.shape[0])\n",
        "np.random.shuffle(shuffled_indices)\n",
        "\n",
        "shuffled_inputs = scaled_inputs[shuffled_indices]\n",
        "shuffled_targets = targets_equal_priors[shuffled_indices]"
      ],
      "execution_count": 5,
      "outputs": []
    },
    {
      "cell_type": "markdown",
      "metadata": {
        "id": "izZXM1eArXvc"
      },
      "source": [
        "**Split the dataset into train, validation, and test**"
      ]
    },
    {
      "cell_type": "code",
      "metadata": {
        "id": "ZQERelvRrWPU",
        "outputId": "a5c45760-bf63-4897-ead7-06d422642baa",
        "colab": {
          "base_uri": "https://localhost:8080/"
        }
      },
      "source": [
        "samples_count = shuffled_inputs.shape[0]\n",
        "\n",
        "train_samples_count = int(0.8*samples_count)\n",
        "validation_samples_count = int(0.1*samples_count)\n",
        "test_samples_count = samples_count - train_samples_count - validation_samples_count\n",
        "\n",
        "train_inputs = shuffled_inputs[:train_samples_count]\n",
        "train_targets = shuffled_targets[:train_samples_count]\n",
        "\n",
        "validation_inputs = shuffled_inputs[train_samples_count:train_samples_count+validation_samples_count]\n",
        "validation_targets = shuffled_targets[train_samples_count:train_samples_count+validation_samples_count]\n",
        "\n",
        "test_inputs = shuffled_inputs[train_samples_count+validation_samples_count:]\n",
        "test_targets = shuffled_targets[train_samples_count+validation_samples_count:]\n",
        "\n",
        "print(np.sum(train_targets), train_samples_count, np.sum(train_targets) / train_samples_count)\n",
        "print(np.sum(validation_targets), validation_samples_count, np.sum(validation_targets) / validation_samples_count)\n",
        "print(np.sum(test_targets), test_samples_count, np.sum(test_targets) / test_samples_count)"
      ],
      "execution_count": 6,
      "outputs": [
        {
          "output_type": "stream",
          "text": [
            "1798.0 3579 0.502374965074043\n",
            "214.0 447 0.47874720357941836\n",
            "225.0 448 0.5022321428571429\n"
          ],
          "name": "stdout"
        }
      ]
    },
    {
      "cell_type": "markdown",
      "metadata": {
        "id": "UB1jdLsfrnXn"
      },
      "source": [
        "Save the three datasets in *.npz "
      ]
    },
    {
      "cell_type": "code",
      "metadata": {
        "id": "a-BRyFN5re1K"
      },
      "source": [
        "np.savez('/content/gdrive/My Drive/Colab_Notebooks/Audiobooks_data_train', inputs=train_inputs, targets=train_targets)\n",
        "np.savez('/content/gdrive/My Drive/Colab_Notebooks/Audiobooks_data_validation', inputs=validation_inputs, targets=validation_targets)\n",
        "np.savez('/content/gdrive/My Drive/Colab_Notebooks/Audiobooks_data_test', inputs=test_inputs, targets=test_targets)"
      ],
      "execution_count": 8,
      "outputs": []
    },
    {
      "cell_type": "code",
      "metadata": {
        "id": "TsSV-dzVryYf"
      },
      "source": [
        ""
      ],
      "execution_count": null,
      "outputs": []
    }
  ]
}